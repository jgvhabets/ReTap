{
 "cells": [
  {
   "attachments": {},
   "cell_type": "markdown",
   "metadata": {},
   "source": [
    "## Run ReTap from a Jupyter notebook"
   ]
  },
  {
   "attachments": {},
   "cell_type": "markdown",
   "metadata": {},
   "source": [
    "### 0. Load packages and functions "
   ]
  },
  {
   "cell_type": "code",
   "execution_count": 1,
   "metadata": {},
   "outputs": [],
   "source": [
    "# import packages and functions\n",
    "import os\n",
    "import numpy as np\n",
    "import pandas as pd\n"
   ]
  },
  {
   "cell_type": "code",
   "execution_count": 2,
   "metadata": {},
   "outputs": [],
   "source": [
    "def set_workingdirectory():\n",
    "    wd = os.getcwd()\n",
    "    if not wd.endswith('retap'):\n",
    "        if wd.endswith('ReTap'):\n",
    "            wd = os.path.join(os.getcwd(), 'src', 'retap')\n",
    "        while not wd.endswith('retap'):\n",
    "            wd = os.path.dirname(wd)\n",
    "        os.chdir(wd)  # set wd to retap\n"
   ]
  },
  {
   "cell_type": "code",
   "execution_count": 3,
   "metadata": {},
   "outputs": [],
   "source": [
    "set_workingdirectory()\n",
    "# import ReTap's functions\n",
    "import main_scripts.run_retap_notebook as run_retap"
   ]
  },
  {
   "attachments": {},
   "cell_type": "markdown",
   "metadata": {},
   "source": [
    "### 1."
   ]
  },
  {
   "cell_type": "code",
   "execution_count": 4,
   "metadata": {},
   "outputs": [
    {
     "name": "stdout",
     "output_type": "stream",
     "text": [
      "Notebook run of ReTap\n",
      "files selected from C:/Users/habetsj/Research/projects/tapping/retap_repo_testing\\raw_acc: []\n",
      "ABORTED, no files found in C:/Users/habetsj/Research/projects/tapping/retap_repo_testing\\raw_acc\n"
     ]
    }
   ],
   "source": [
    "run_retap.run_ReTap_notebook()"
   ]
  },
  {
   "cell_type": "code",
   "execution_count": null,
   "metadata": {},
   "outputs": [],
   "source": []
  },
  {
   "cell_type": "code",
   "execution_count": null,
   "metadata": {},
   "outputs": [],
   "source": []
  }
 ],
 "metadata": {
  "kernelspec": {
   "display_name": "retap_test",
   "language": "python",
   "name": "python3"
  },
  "language_info": {
   "codemirror_mode": {
    "name": "ipython",
    "version": 3
   },
   "file_extension": ".py",
   "mimetype": "text/x-python",
   "name": "python",
   "nbconvert_exporter": "python",
   "pygments_lexer": "ipython3",
   "version": "3.10.10"
  },
  "orig_nbformat": 4
 },
 "nbformat": 4,
 "nbformat_minor": 2
}
